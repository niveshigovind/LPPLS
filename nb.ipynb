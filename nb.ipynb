{
 "metadata": {
  "language_info": {
   "codemirror_mode": {
    "name": "ipython",
    "version": 3
   },
   "file_extension": ".py",
   "mimetype": "text/x-python",
   "name": "python",
   "nbconvert_exporter": "python",
   "pygments_lexer": "ipython3",
   "version": "3.8.5-final"
  },
  "orig_nbformat": 2,
  "kernelspec": {
   "name": "python38564bitba80edc4f7cc4958a2e4a1829e201f28",
   "display_name": "Python 3.8.5 64-bit"
  }
 },
 "nbformat": 4,
 "nbformat_minor": 2,
 "cells": [
  {
   "cell_type": "code",
   "execution_count": null,
   "metadata": {},
   "outputs": [],
   "source": [
    "from pandas_datareader import data\n",
    "import matplotlib.pyplot as plt\n",
    "import pandas as pd\n",
    "import numpy as np\n",
    "from scipy.optimize import least_squares, minimize\n",
    "from sklearn import linear_model\n",
    "import random"
   ]
  },
  {
   "cell_type": "code",
   "execution_count": 2,
   "metadata": {},
   "outputs": [],
   "source": [
    "def f(tc, t, beta):\n",
    "    return (tc-t)**beta\n",
    "def g(tc, t, beta, omega):\n",
    "    return f(tc, t, beta)*np.cos(omega*np.log(tc-t))\n",
    "def h(tc, t, beta, omega):\n",
    "    return f(tc, t, beta)*np.sin(omega*np.log(tc-t))"
   ]
  },
  {
   "cell_type": "code",
   "execution_count": 3,
   "metadata": {},
   "outputs": [],
   "source": [
    "def LPPL(t, A, B, C1, C2, beta, omega, tc):\n",
    "    return A + B*f(tc, t, beta) + C1*g(tc, t, beta, omega) + C2*h(tc, t, beta, omega)"
   ]
  },
  {
   "cell_type": "code",
   "execution_count": 4,
   "metadata": {},
   "outputs": [],
   "source": [
    "def fit_ABC(beta, omega, tc, log_price):\n",
    "    one_col = np.ones(len(log_price))\n",
    "\n",
    "    t = np.arange(1,len(log_price)+1)\n",
    "    f_col = f(tc=tc, t=t, beta=beta)\n",
    "    g_col = g(tc=tc, t=t, beta=beta, omega=omega)\n",
    "    h_col = h(tc=tc, t=t, beta=beta, omega=omega)\n",
    "\n",
    "    X = np.array([one_col,f_col,g_col,h_col]).T\n",
    "    A, B, C1, C2 = np.linalg.lstsq(X, log_price, rcond=None)[0]\n",
    "    return {\"A\":A, \"B\":B, \"C1\":C1, \"C2\":C2}"
   ]
  },
  {
   "cell_type": "code",
   "execution_count": null,
   "metadata": {},
   "outputs": [],
   "source": [
    "\"\"\"def f_min( beta, omega, tc, log_price):\n",
    "    t = np.arange(1,len(log_price)+1)\n",
    "    A, B, C1, C2 = fit_ABC(beta=beta, omega=omega, tc=tc, log_price=log_price)\n",
    "    return LPPL(t, A, B, C1, C2, beta, omega, tc) - log_price\"\"\""
   ]
  },
  {
   "cell_type": "code",
   "execution_count": 18,
   "metadata": {},
   "outputs": [],
   "source": [
    "def opti_config(log_price):\n",
    "    beta_0 = 0.5\n",
    "    omega_0 = 9\n",
    "\n",
    "    beta_m = 0.1 \n",
    "    omega_m = 6\n",
    "\n",
    "    beta_M = 0.9\n",
    "    omega_M = 13\n",
    "\n",
    "    tc_0 = len(log_price) + 15\n",
    "    t_first = 0\n",
    "    t_last = len(log_price)\n",
    "    t_delta = t_last - t_first\n",
    "    pct_delta_min = t_delta * 0.2\n",
    "    pct_delta_max = t_delta * 2\n",
    "    tc_m = t_last - pct_delta_min\n",
    "    tc_M = t_last + pct_delta_max\n",
    "\n",
    "    return {\"beta_0\":beta_0, \"omega_0\":omega_0, \"tc_0\":tc_0, \"beta_m\":beta_m, \"omega_m\":omega_m, \"tc_m\":tc_m, \"beta_M\":beta_M, \"omega_M\":omega_M, \"tc_M\":tc_M}"
   ]
  },
  {
   "cell_type": "code",
   "execution_count": null,
   "metadata": {},
   "outputs": [],
   "source": [
    "\"\"\"def fit_LPPL(log_price):\n",
    "\n",
    "    beta_0, omega_0, tc_0, beta_m, omega_m, tc_m, beta_M, omega_M, tc_M = opti_config(log_price)\n",
    "\n",
    "    sol = least_squares(\n",
    "        lambda x: f_min(beta=x[0], omega=x[1], tc=x[2], log_price=log_price),\n",
    "        np.array([beta_0, omega_0,  tc_0]),\n",
    "        bounds = ([beta_m, omega_m, tc_m], [beta_M, omega_M, tc_M])\n",
    "    )\n",
    "\n",
    "    if sol.success:\n",
    "        beta, omega, tc = sol.x\n",
    "        A, B, C1, C2 = fit_ABC(beta, omega, tc, log_price)\n",
    "        sol.x = np.append(sol.x,[A, B, C1, C2])\n",
    "    else:\n",
    "        print(\"OLS failed.\")\n",
    "        sol.x = np.append(sol.x,np.zeros(4))\n",
    "    return sol\"\"\""
   ]
  },
  {
   "cell_type": "code",
   "execution_count": 6,
   "metadata": {},
   "outputs": [],
   "source": [
    "def func_restricted(x, *args):\n",
    "    '''\n",
    "    finds the least square difference\n",
    "    '''\n",
    "    tc = x[0]\n",
    "    beta = x[1]\n",
    "    omega = x[2]\n",
    "\n",
    "    log_price = args[0]\n",
    "    # print('shape: {}'.format(obs.shape))\n",
    "\n",
    "    fit = fit_ABC(beta, omega, tc, log_price)\n",
    "\n",
    "    t = np.arange(len(log_price))\n",
    "    delta = LPPL(t=t, A=fit['A'], B=fit['B'], C1=fit['C1'], C2=fit['C2'], beta=beta, omega=omega, tc=tc)-log_price\n",
    "    delta = np.power(delta, 2)\n",
    "\n",
    "    return np.sum(delta)"
   ]
  },
  {
   "cell_type": "code",
   "execution_count": 7,
   "metadata": {},
   "outputs": [],
   "source": [
    "def fit(log_price, max_searches=25, minimizer='Nelder-Mead'):\n",
    "    config = opti_config(log_price)\n",
    "\n",
    "    search_count = 0\n",
    "    # find bubble\n",
    "    while search_count < max_searches:\n",
    "\n",
    "        # set random initialization limits for non-linear params\n",
    "        init_limits = [\n",
    "            (config['tc_m'], config['tc_M']),  # tc : Critical Time\n",
    "            (config['beta_m'], config['beta_M']),                  # m : 0.1 ≤ m ≤ 0.9\n",
    "            (config['omega_m'], config['omega_M']),                     # ω : 6 ≤ ω ≤ 13\n",
    "        ]\n",
    "\n",
    "        # randomly choose vals within bounds for non-linear params\n",
    "        non_lin_vals = [random.uniform(a[0], a[1]) for a in init_limits]\n",
    "\n",
    "        tc = non_lin_vals[0]\n",
    "        beta = non_lin_vals[1]\n",
    "        omega = non_lin_vals[2]\n",
    "\n",
    "        seed = np.array([tc, beta, omega])\n",
    "\n",
    "        try:\n",
    "            cofs = minimize(\n",
    "                args=log_price,\n",
    "                fun=func_restricted,\n",
    "                method=minimizer,\n",
    "                x0=seed\n",
    "            )\n",
    "\n",
    "            if cofs.success:\n",
    "\n",
    "                tc = cofs.x[0]\n",
    "                beta = cofs.x[1]\n",
    "                omega = cofs.x[2]\n",
    "\n",
    "                # calculate the linear vals again...\n",
    "                fit = fit_ABC(beta, omega, tc, log_price)\n",
    "                normed_residual = func_restricted(cofs.x, log_price)/(7+len(log_price))\n",
    "                # @TODO save these as variables local to the class so you can access them again\n",
    "                return {'tc':tc, 'beta':beta, 'omega':omega, 'A':fit['A'], 'B':fit['B'], 'C1':fit['C1'], 'C2':fit['C2'],'Res':normed_residual}\n",
    "\n",
    "            else:\n",
    "                search_count += 1\n",
    "        except Exception as e:\n",
    "            print('minimize failed (' + str(search_count) + '/' + str(max_searches)+ '): {}'.format(e))\n",
    "            search_count += 1\n",
    "    return  {'tc':0, 'beta':0, 'omega':0, 'A':0, 'B':0, 'C1':0, 'C2':0,'Res':0}"
   ]
  },
  {
   "cell_type": "code",
   "execution_count": 8,
   "metadata": {},
   "outputs": [],
   "source": [
    "def total_return(log_price):\n",
    "    price = np.array(np.exp(log_price))\n",
    "    return (price[-1]-price[0])/price[0]"
   ]
  },
  {
   "cell_type": "code",
   "execution_count": 9,
   "metadata": {},
   "outputs": [],
   "source": [
    "def get_dt_max(sols, time_windows):\n",
    "    residuals = [sol['Res'] for sol in sols]\n",
    "    residuals_lgrn = obtainLagrangeRegularizedNormedCost(residuals, time_windows)\n",
    "    return time_windows[np.argmin(residuals_lgrn)]\n",
    "\n",
    "\n",
    "def obtainLagrangeRegularizedNormedCost(residuals, time_windows):\n",
    "    slope = LagrangeMethod(residuals, time_windows)\n",
    "    residuals_lgrn = residuals - slope*np.array(list(time_windows))\n",
    "    return residuals_lgrn\n",
    "\n",
    "def LagrangeMethod(residuals, time_windows):\n",
    "    slope = calculate_slope_of_normed_cost(residuals, time_windows)\n",
    "    return slope[0]\n",
    "\n",
    "def calculate_slope_of_normed_cost(residuals, time_windows):\n",
    "    regr =linear_model.LinearRegression(fit_intercept=False)\n",
    "    x_residuals = np.array(list(time_windows))\n",
    "    x_residuals = x_residuals.reshape(len(residuals),1)\n",
    "    res = regr.fit(x_residuals, residuals)\n",
    "    return res.coef_"
   ]
  },
  {
   "cell_type": "code",
   "execution_count": 10,
   "metadata": {},
   "outputs": [],
   "source": [
    "def conditions_satisfied(beta, omega, tc, A, B, C1, C2, dt):\n",
    "    c1 = 0.01 < beta < 1.2\n",
    "    c2 = 2 < omega < 25\n",
    "    c3 = 0.95*dt < tc < 1.11*dt\n",
    "    c4 = 2.5 < omega/(2*np.pi)*np.log(abs(tc/(tc-dt)))\n",
    "    C = C1/np.cos(np.arctan(C2/C1))\n",
    "    c5 = 0.8 < beta * abs(B) / (omega * abs(C))\n",
    "    return c1 and c2 and c3 and c4 and c5 "
   ]
  },
  {
   "cell_type": "code",
   "execution_count": 11,
   "metadata": {},
   "outputs": [],
   "source": [
    "def LPPL_confidence(log_price, time_windows):\n",
    "    \n",
    "    sols = []\n",
    "    for dt in time_windows:\n",
    "        sols.append(fit(log_price[-dt:]))\n",
    "\n",
    "    dt_max = get_dt_max(sols, time_windows)\n",
    "    LPPL_confidences = []\n",
    "    total_returns = []\n",
    "    for dt in time_windows:\n",
    "        sol = sols.pop(0)\n",
    "        if dt <= dt_max and conditions_satisfied(beta=sol['beta'], omega=sol['omega'], tc=sol['tc'], A=sol['A'], B=sol['B'], C1=sol['C1'], C2=sol['C2'], dt=dt):\n",
    "            LPPL_confidences.append(1)\n",
    "            total_returns.append(total_return(log_price[-dt:]))\n",
    "\n",
    "    return np.mean(LPPL_confidences)*np.sign(np.median(total_returns))\n"
   ]
  },
  {
   "cell_type": "code",
   "execution_count": 12,
   "metadata": {},
   "outputs": [],
   "source": [
    "def LPPL_confidence_signal(log_price, time, time_windows):\n",
    "    \n",
    "    LPPL_confidence_ts = []\n",
    "    for t2 in time:\n",
    "        LPPL_confidence_ts.append(LPPL_confidence(log_price=log_price[:t2], time_windows=time_windows))\n",
    "    return pd.DataFrame(LPPL_confidence_ts,index=log_price[time].index).fillna(0)"
   ]
  },
  {
   "cell_type": "code",
   "execution_count": null,
   "metadata": {
    "tags": []
   },
   "outputs": [],
   "source": [
    "short_dt = range(30,35)\n",
    "medium_dt = range(91,300)\n",
    "long_dt = range(301,750)\n",
    "\n",
    "price = pd.read_csv(\"data.csv\")[\"Closing Price (USD)\"]\n",
    "log_price = np.log(price)\n",
    "\n",
    "LPPL_conf_ts = LPPL_confidence_signal(log_price, time=range(1500,1550), time_windows=np.linspace(50,10,50,dtype=int))"
   ]
  },
  {
   "cell_type": "code",
   "execution_count": null,
   "metadata": {
    "tags": []
   },
   "outputs": [],
   "source": [
    "# Define the instruments to download. We would like to see Apple, Microsoft and the S&P500 index.\n",
    "ticker = '^GSPC'\n",
    "\n",
    "# We would like all available data from 01/01/2000 until 12/31/2016.\n",
    "start_date = '1981-01-01'\n",
    "end_date = '1987-08-30'\n",
    "\n",
    "# User pandas_reader.data.DataReader to load the desired data. As simple as that.\n",
    "panel_data = data.DataReader(ticker, 'yahoo', start_date, end_date)\n",
    "price = panel_data['Adj Close']\n",
    "log_price = np.log(price)\n",
    "\n"
   ]
  },
  {
   "cell_type": "code",
   "execution_count": 27,
   "metadata": {},
   "outputs": [
    {
     "output_type": "execute_result",
     "data": {
      "text/plain": "[<matplotlib.lines.Line2D at 0x280ef303640>]"
     },
     "metadata": {},
     "execution_count": 27
    },
    {
     "output_type": "display_data",
     "data": {
      "text/plain": "<Figure size 432x288 with 1 Axes>",
      "image/svg+xml": "<?xml version=\"1.0\" encoding=\"utf-8\" standalone=\"no\"?>\r\n<!DOCTYPE svg PUBLIC \"-//W3C//DTD SVG 1.1//EN\"\r\n  \"http://www.w3.org/Graphics/SVG/1.1/DTD/svg11.dtd\">\r\n<!-- Created with matplotlib (https://matplotlib.org/) -->\r\n<svg height=\"248.518125pt\" version=\"1.1\" viewBox=\"0 0 378.465625 248.518125\" width=\"378.465625pt\" xmlns=\"http://www.w3.org/2000/svg\" xmlns:xlink=\"http://www.w3.org/1999/xlink\">\r\n <metadata>\r\n  <rdf:RDF xmlns:cc=\"http://creativecommons.org/ns#\" xmlns:dc=\"http://purl.org/dc/elements/1.1/\" xmlns:rdf=\"http://www.w3.org/1999/02/22-rdf-syntax-ns#\">\r\n   <cc:Work>\r\n    <dc:type rdf:resource=\"http://purl.org/dc/dcmitype/StillImage\"/>\r\n    <dc:date>2020-08-20T13:21:29.647738</dc:date>\r\n    <dc:format>image/svg+xml</dc:format>\r\n    <dc:creator>\r\n     <cc:Agent>\r\n      <dc:title>Matplotlib v3.3.0, https://matplotlib.org/</dc:title>\r\n     </cc:Agent>\r\n    </dc:creator>\r\n   </cc:Work>\r\n  </rdf:RDF>\r\n </metadata>\r\n <defs>\r\n  <style type=\"text/css\">*{stroke-linecap:butt;stroke-linejoin:round;}</style>\r\n </defs>\r\n <g id=\"figure_1\">\r\n  <g id=\"patch_1\">\r\n   <path d=\"M 0 248.518125 \r\nL 378.465625 248.518125 \r\nL 378.465625 0 \r\nL 0 0 \r\nz\r\n\" style=\"fill:none;\"/>\r\n  </g>\r\n  <g id=\"axes_1\">\r\n   <g id=\"patch_2\">\r\n    <path d=\"M 36.465625 224.64 \r\nL 371.265625 224.64 \r\nL 371.265625 7.2 \r\nL 36.465625 7.2 \r\nz\r\n\" style=\"fill:#ffffff;\"/>\r\n   </g>\r\n   <g id=\"matplotlib.axis_1\">\r\n    <g id=\"xtick_1\">\r\n     <g id=\"line2d_1\">\r\n      <defs>\r\n       <path d=\"M 0 0 \r\nL 0 3.5 \r\n\" id=\"me00dddecbe\" style=\"stroke:#000000;stroke-width:0.8;\"/>\r\n      </defs>\r\n      <g>\r\n       <use style=\"stroke:#000000;stroke-width:0.8;\" x=\"51.683807\" xlink:href=\"#me00dddecbe\" y=\"224.64\"/>\r\n      </g>\r\n     </g>\r\n     <g id=\"text_1\">\r\n      <!-- 0 -->\r\n      <g transform=\"translate(48.502557 239.238437)scale(0.1 -0.1)\">\r\n       <defs>\r\n        <path d=\"M 31.78125 66.40625 \r\nQ 24.171875 66.40625 20.328125 58.90625 \r\nQ 16.5 51.421875 16.5 36.375 \r\nQ 16.5 21.390625 20.328125 13.890625 \r\nQ 24.171875 6.390625 31.78125 6.390625 \r\nQ 39.453125 6.390625 43.28125 13.890625 \r\nQ 47.125 21.390625 47.125 36.375 \r\nQ 47.125 51.421875 43.28125 58.90625 \r\nQ 39.453125 66.40625 31.78125 66.40625 \r\nz\r\nM 31.78125 74.21875 \r\nQ 44.046875 74.21875 50.515625 64.515625 \r\nQ 56.984375 54.828125 56.984375 36.375 \r\nQ 56.984375 17.96875 50.515625 8.265625 \r\nQ 44.046875 -1.421875 31.78125 -1.421875 \r\nQ 19.53125 -1.421875 13.0625 8.265625 \r\nQ 6.59375 17.96875 6.59375 36.375 \r\nQ 6.59375 54.828125 13.0625 64.515625 \r\nQ 19.53125 74.21875 31.78125 74.21875 \r\nz\r\n\" id=\"DejaVuSans-48\"/>\r\n       </defs>\r\n       <use xlink:href=\"#DejaVuSans-48\"/>\r\n      </g>\r\n     </g>\r\n    </g>\r\n    <g id=\"xtick_2\">\r\n     <g id=\"line2d_2\">\r\n      <g>\r\n       <use style=\"stroke:#000000;stroke-width:0.8;\" x=\"107.02265\" xlink:href=\"#me00dddecbe\" y=\"224.64\"/>\r\n      </g>\r\n     </g>\r\n     <g id=\"text_2\">\r\n      <!-- 200 -->\r\n      <g transform=\"translate(97.4789 239.238437)scale(0.1 -0.1)\">\r\n       <defs>\r\n        <path d=\"M 19.1875 8.296875 \r\nL 53.609375 8.296875 \r\nL 53.609375 0 \r\nL 7.328125 0 \r\nL 7.328125 8.296875 \r\nQ 12.9375 14.109375 22.625 23.890625 \r\nQ 32.328125 33.6875 34.8125 36.53125 \r\nQ 39.546875 41.84375 41.421875 45.53125 \r\nQ 43.3125 49.21875 43.3125 52.78125 \r\nQ 43.3125 58.59375 39.234375 62.25 \r\nQ 35.15625 65.921875 28.609375 65.921875 \r\nQ 23.96875 65.921875 18.8125 64.3125 \r\nQ 13.671875 62.703125 7.8125 59.421875 \r\nL 7.8125 69.390625 \r\nQ 13.765625 71.78125 18.9375 73 \r\nQ 24.125 74.21875 28.421875 74.21875 \r\nQ 39.75 74.21875 46.484375 68.546875 \r\nQ 53.21875 62.890625 53.21875 53.421875 \r\nQ 53.21875 48.921875 51.53125 44.890625 \r\nQ 49.859375 40.875 45.40625 35.40625 \r\nQ 44.1875 33.984375 37.640625 27.21875 \r\nQ 31.109375 20.453125 19.1875 8.296875 \r\nz\r\n\" id=\"DejaVuSans-50\"/>\r\n       </defs>\r\n       <use xlink:href=\"#DejaVuSans-50\"/>\r\n       <use x=\"63.623047\" xlink:href=\"#DejaVuSans-48\"/>\r\n       <use x=\"127.246094\" xlink:href=\"#DejaVuSans-48\"/>\r\n      </g>\r\n     </g>\r\n    </g>\r\n    <g id=\"xtick_3\">\r\n     <g id=\"line2d_3\">\r\n      <g>\r\n       <use style=\"stroke:#000000;stroke-width:0.8;\" x=\"162.361493\" xlink:href=\"#me00dddecbe\" y=\"224.64\"/>\r\n      </g>\r\n     </g>\r\n     <g id=\"text_3\">\r\n      <!-- 400 -->\r\n      <g transform=\"translate(152.817743 239.238437)scale(0.1 -0.1)\">\r\n       <defs>\r\n        <path d=\"M 37.796875 64.3125 \r\nL 12.890625 25.390625 \r\nL 37.796875 25.390625 \r\nz\r\nM 35.203125 72.90625 \r\nL 47.609375 72.90625 \r\nL 47.609375 25.390625 \r\nL 58.015625 25.390625 \r\nL 58.015625 17.1875 \r\nL 47.609375 17.1875 \r\nL 47.609375 0 \r\nL 37.796875 0 \r\nL 37.796875 17.1875 \r\nL 4.890625 17.1875 \r\nL 4.890625 26.703125 \r\nz\r\n\" id=\"DejaVuSans-52\"/>\r\n       </defs>\r\n       <use xlink:href=\"#DejaVuSans-52\"/>\r\n       <use x=\"63.623047\" xlink:href=\"#DejaVuSans-48\"/>\r\n       <use x=\"127.246094\" xlink:href=\"#DejaVuSans-48\"/>\r\n      </g>\r\n     </g>\r\n    </g>\r\n    <g id=\"xtick_4\">\r\n     <g id=\"line2d_4\">\r\n      <g>\r\n       <use style=\"stroke:#000000;stroke-width:0.8;\" x=\"217.700336\" xlink:href=\"#me00dddecbe\" y=\"224.64\"/>\r\n      </g>\r\n     </g>\r\n     <g id=\"text_4\">\r\n      <!-- 600 -->\r\n      <g transform=\"translate(208.156586 239.238437)scale(0.1 -0.1)\">\r\n       <defs>\r\n        <path d=\"M 33.015625 40.375 \r\nQ 26.375 40.375 22.484375 35.828125 \r\nQ 18.609375 31.296875 18.609375 23.390625 \r\nQ 18.609375 15.53125 22.484375 10.953125 \r\nQ 26.375 6.390625 33.015625 6.390625 \r\nQ 39.65625 6.390625 43.53125 10.953125 \r\nQ 47.40625 15.53125 47.40625 23.390625 \r\nQ 47.40625 31.296875 43.53125 35.828125 \r\nQ 39.65625 40.375 33.015625 40.375 \r\nz\r\nM 52.59375 71.296875 \r\nL 52.59375 62.3125 \r\nQ 48.875 64.0625 45.09375 64.984375 \r\nQ 41.3125 65.921875 37.59375 65.921875 \r\nQ 27.828125 65.921875 22.671875 59.328125 \r\nQ 17.53125 52.734375 16.796875 39.40625 \r\nQ 19.671875 43.65625 24.015625 45.921875 \r\nQ 28.375 48.1875 33.59375 48.1875 \r\nQ 44.578125 48.1875 50.953125 41.515625 \r\nQ 57.328125 34.859375 57.328125 23.390625 \r\nQ 57.328125 12.15625 50.6875 5.359375 \r\nQ 44.046875 -1.421875 33.015625 -1.421875 \r\nQ 20.359375 -1.421875 13.671875 8.265625 \r\nQ 6.984375 17.96875 6.984375 36.375 \r\nQ 6.984375 53.65625 15.1875 63.9375 \r\nQ 23.390625 74.21875 37.203125 74.21875 \r\nQ 40.921875 74.21875 44.703125 73.484375 \r\nQ 48.484375 72.75 52.59375 71.296875 \r\nz\r\n\" id=\"DejaVuSans-54\"/>\r\n       </defs>\r\n       <use xlink:href=\"#DejaVuSans-54\"/>\r\n       <use x=\"63.623047\" xlink:href=\"#DejaVuSans-48\"/>\r\n       <use x=\"127.246094\" xlink:href=\"#DejaVuSans-48\"/>\r\n      </g>\r\n     </g>\r\n    </g>\r\n    <g id=\"xtick_5\">\r\n     <g id=\"line2d_5\">\r\n      <g>\r\n       <use style=\"stroke:#000000;stroke-width:0.8;\" x=\"273.039179\" xlink:href=\"#me00dddecbe\" y=\"224.64\"/>\r\n      </g>\r\n     </g>\r\n     <g id=\"text_5\">\r\n      <!-- 800 -->\r\n      <g transform=\"translate(263.495429 239.238437)scale(0.1 -0.1)\">\r\n       <defs>\r\n        <path d=\"M 31.78125 34.625 \r\nQ 24.75 34.625 20.71875 30.859375 \r\nQ 16.703125 27.09375 16.703125 20.515625 \r\nQ 16.703125 13.921875 20.71875 10.15625 \r\nQ 24.75 6.390625 31.78125 6.390625 \r\nQ 38.8125 6.390625 42.859375 10.171875 \r\nQ 46.921875 13.96875 46.921875 20.515625 \r\nQ 46.921875 27.09375 42.890625 30.859375 \r\nQ 38.875 34.625 31.78125 34.625 \r\nz\r\nM 21.921875 38.8125 \r\nQ 15.578125 40.375 12.03125 44.71875 \r\nQ 8.5 49.078125 8.5 55.328125 \r\nQ 8.5 64.0625 14.71875 69.140625 \r\nQ 20.953125 74.21875 31.78125 74.21875 \r\nQ 42.671875 74.21875 48.875 69.140625 \r\nQ 55.078125 64.0625 55.078125 55.328125 \r\nQ 55.078125 49.078125 51.53125 44.71875 \r\nQ 48 40.375 41.703125 38.8125 \r\nQ 48.828125 37.15625 52.796875 32.3125 \r\nQ 56.78125 27.484375 56.78125 20.515625 \r\nQ 56.78125 9.90625 50.3125 4.234375 \r\nQ 43.84375 -1.421875 31.78125 -1.421875 \r\nQ 19.734375 -1.421875 13.25 4.234375 \r\nQ 6.78125 9.90625 6.78125 20.515625 \r\nQ 6.78125 27.484375 10.78125 32.3125 \r\nQ 14.796875 37.15625 21.921875 38.8125 \r\nz\r\nM 18.3125 54.390625 \r\nQ 18.3125 48.734375 21.84375 45.5625 \r\nQ 25.390625 42.390625 31.78125 42.390625 \r\nQ 38.140625 42.390625 41.71875 45.5625 \r\nQ 45.3125 48.734375 45.3125 54.390625 \r\nQ 45.3125 60.0625 41.71875 63.234375 \r\nQ 38.140625 66.40625 31.78125 66.40625 \r\nQ 25.390625 66.40625 21.84375 63.234375 \r\nQ 18.3125 60.0625 18.3125 54.390625 \r\nz\r\n\" id=\"DejaVuSans-56\"/>\r\n       </defs>\r\n       <use xlink:href=\"#DejaVuSans-56\"/>\r\n       <use x=\"63.623047\" xlink:href=\"#DejaVuSans-48\"/>\r\n       <use x=\"127.246094\" xlink:href=\"#DejaVuSans-48\"/>\r\n      </g>\r\n     </g>\r\n    </g>\r\n    <g id=\"xtick_6\">\r\n     <g id=\"line2d_6\">\r\n      <g>\r\n       <use style=\"stroke:#000000;stroke-width:0.8;\" x=\"328.378022\" xlink:href=\"#me00dddecbe\" y=\"224.64\"/>\r\n      </g>\r\n     </g>\r\n     <g id=\"text_6\">\r\n      <!-- 1000 -->\r\n      <g transform=\"translate(315.653022 239.238437)scale(0.1 -0.1)\">\r\n       <defs>\r\n        <path d=\"M 12.40625 8.296875 \r\nL 28.515625 8.296875 \r\nL 28.515625 63.921875 \r\nL 10.984375 60.40625 \r\nL 10.984375 69.390625 \r\nL 28.421875 72.90625 \r\nL 38.28125 72.90625 \r\nL 38.28125 8.296875 \r\nL 54.390625 8.296875 \r\nL 54.390625 0 \r\nL 12.40625 0 \r\nz\r\n\" id=\"DejaVuSans-49\"/>\r\n       </defs>\r\n       <use xlink:href=\"#DejaVuSans-49\"/>\r\n       <use x=\"63.623047\" xlink:href=\"#DejaVuSans-48\"/>\r\n       <use x=\"127.246094\" xlink:href=\"#DejaVuSans-48\"/>\r\n       <use x=\"190.869141\" xlink:href=\"#DejaVuSans-48\"/>\r\n      </g>\r\n     </g>\r\n    </g>\r\n   </g>\r\n   <g id=\"matplotlib.axis_2\">\r\n    <g id=\"ytick_1\">\r\n     <g id=\"line2d_7\">\r\n      <defs>\r\n       <path d=\"M 0 0 \r\nL -3.5 0 \r\n\" id=\"mf3a19f67e8\" style=\"stroke:#000000;stroke-width:0.8;\"/>\r\n      </defs>\r\n      <g>\r\n       <use style=\"stroke:#000000;stroke-width:0.8;\" x=\"36.465625\" xlink:href=\"#mf3a19f67e8\" y=\"200.742682\"/>\r\n      </g>\r\n     </g>\r\n     <g id=\"text_7\">\r\n      <!-- 1.63 -->\r\n      <g transform=\"translate(7.2 204.541901)scale(0.1 -0.1)\">\r\n       <defs>\r\n        <path d=\"M 10.6875 12.40625 \r\nL 21 12.40625 \r\nL 21 0 \r\nL 10.6875 0 \r\nz\r\n\" id=\"DejaVuSans-46\"/>\r\n        <path d=\"M 40.578125 39.3125 \r\nQ 47.65625 37.796875 51.625 33 \r\nQ 55.609375 28.21875 55.609375 21.1875 \r\nQ 55.609375 10.40625 48.1875 4.484375 \r\nQ 40.765625 -1.421875 27.09375 -1.421875 \r\nQ 22.515625 -1.421875 17.65625 -0.515625 \r\nQ 12.796875 0.390625 7.625 2.203125 \r\nL 7.625 11.71875 \r\nQ 11.71875 9.328125 16.59375 8.109375 \r\nQ 21.484375 6.890625 26.8125 6.890625 \r\nQ 36.078125 6.890625 40.9375 10.546875 \r\nQ 45.796875 14.203125 45.796875 21.1875 \r\nQ 45.796875 27.640625 41.28125 31.265625 \r\nQ 36.765625 34.90625 28.71875 34.90625 \r\nL 20.21875 34.90625 \r\nL 20.21875 43.015625 \r\nL 29.109375 43.015625 \r\nQ 36.375 43.015625 40.234375 45.921875 \r\nQ 44.09375 48.828125 44.09375 54.296875 \r\nQ 44.09375 59.90625 40.109375 62.90625 \r\nQ 36.140625 65.921875 28.71875 65.921875 \r\nQ 24.65625 65.921875 20.015625 65.03125 \r\nQ 15.375 64.15625 9.8125 62.3125 \r\nL 9.8125 71.09375 \r\nQ 15.4375 72.65625 20.34375 73.4375 \r\nQ 25.25 74.21875 29.59375 74.21875 \r\nQ 40.828125 74.21875 47.359375 69.109375 \r\nQ 53.90625 64.015625 53.90625 55.328125 \r\nQ 53.90625 49.265625 50.4375 45.09375 \r\nQ 46.96875 40.921875 40.578125 39.3125 \r\nz\r\n\" id=\"DejaVuSans-51\"/>\r\n       </defs>\r\n       <use xlink:href=\"#DejaVuSans-49\"/>\r\n       <use x=\"63.623047\" xlink:href=\"#DejaVuSans-46\"/>\r\n       <use x=\"95.410156\" xlink:href=\"#DejaVuSans-54\"/>\r\n       <use x=\"159.033203\" xlink:href=\"#DejaVuSans-51\"/>\r\n      </g>\r\n     </g>\r\n    </g>\r\n    <g id=\"ytick_2\">\r\n     <g id=\"line2d_8\">\r\n      <g>\r\n       <use style=\"stroke:#000000;stroke-width:0.8;\" x=\"36.465625\" xlink:href=\"#mf3a19f67e8\" y=\"174.954582\"/>\r\n      </g>\r\n     </g>\r\n     <g id=\"text_8\">\r\n      <!-- 1.64 -->\r\n      <g transform=\"translate(7.2 178.7538)scale(0.1 -0.1)\">\r\n       <use xlink:href=\"#DejaVuSans-49\"/>\r\n       <use x=\"63.623047\" xlink:href=\"#DejaVuSans-46\"/>\r\n       <use x=\"95.410156\" xlink:href=\"#DejaVuSans-54\"/>\r\n       <use x=\"159.033203\" xlink:href=\"#DejaVuSans-52\"/>\r\n      </g>\r\n     </g>\r\n    </g>\r\n    <g id=\"ytick_3\">\r\n     <g id=\"line2d_9\">\r\n      <g>\r\n       <use style=\"stroke:#000000;stroke-width:0.8;\" x=\"36.465625\" xlink:href=\"#mf3a19f67e8\" y=\"149.166481\"/>\r\n      </g>\r\n     </g>\r\n     <g id=\"text_9\">\r\n      <!-- 1.65 -->\r\n      <g transform=\"translate(7.2 152.9657)scale(0.1 -0.1)\">\r\n       <defs>\r\n        <path d=\"M 10.796875 72.90625 \r\nL 49.515625 72.90625 \r\nL 49.515625 64.59375 \r\nL 19.828125 64.59375 \r\nL 19.828125 46.734375 \r\nQ 21.96875 47.46875 24.109375 47.828125 \r\nQ 26.265625 48.1875 28.421875 48.1875 \r\nQ 40.625 48.1875 47.75 41.5 \r\nQ 54.890625 34.8125 54.890625 23.390625 \r\nQ 54.890625 11.625 47.5625 5.09375 \r\nQ 40.234375 -1.421875 26.90625 -1.421875 \r\nQ 22.3125 -1.421875 17.546875 -0.640625 \r\nQ 12.796875 0.140625 7.71875 1.703125 \r\nL 7.71875 11.625 \r\nQ 12.109375 9.234375 16.796875 8.0625 \r\nQ 21.484375 6.890625 26.703125 6.890625 \r\nQ 35.15625 6.890625 40.078125 11.328125 \r\nQ 45.015625 15.765625 45.015625 23.390625 \r\nQ 45.015625 31 40.078125 35.4375 \r\nQ 35.15625 39.890625 26.703125 39.890625 \r\nQ 22.75 39.890625 18.8125 39.015625 \r\nQ 14.890625 38.140625 10.796875 36.28125 \r\nz\r\n\" id=\"DejaVuSans-53\"/>\r\n       </defs>\r\n       <use xlink:href=\"#DejaVuSans-49\"/>\r\n       <use x=\"63.623047\" xlink:href=\"#DejaVuSans-46\"/>\r\n       <use x=\"95.410156\" xlink:href=\"#DejaVuSans-54\"/>\r\n       <use x=\"159.033203\" xlink:href=\"#DejaVuSans-53\"/>\r\n      </g>\r\n     </g>\r\n    </g>\r\n    <g id=\"ytick_4\">\r\n     <g id=\"line2d_10\">\r\n      <g>\r\n       <use style=\"stroke:#000000;stroke-width:0.8;\" x=\"36.465625\" xlink:href=\"#mf3a19f67e8\" y=\"123.37838\"/>\r\n      </g>\r\n     </g>\r\n     <g id=\"text_10\">\r\n      <!-- 1.66 -->\r\n      <g transform=\"translate(7.2 127.177599)scale(0.1 -0.1)\">\r\n       <use xlink:href=\"#DejaVuSans-49\"/>\r\n       <use x=\"63.623047\" xlink:href=\"#DejaVuSans-46\"/>\r\n       <use x=\"95.410156\" xlink:href=\"#DejaVuSans-54\"/>\r\n       <use x=\"159.033203\" xlink:href=\"#DejaVuSans-54\"/>\r\n      </g>\r\n     </g>\r\n    </g>\r\n    <g id=\"ytick_5\">\r\n     <g id=\"line2d_11\">\r\n      <g>\r\n       <use style=\"stroke:#000000;stroke-width:0.8;\" x=\"36.465625\" xlink:href=\"#mf3a19f67e8\" y=\"97.59028\"/>\r\n      </g>\r\n     </g>\r\n     <g id=\"text_11\">\r\n      <!-- 1.67 -->\r\n      <g transform=\"translate(7.2 101.389499)scale(0.1 -0.1)\">\r\n       <defs>\r\n        <path d=\"M 8.203125 72.90625 \r\nL 55.078125 72.90625 \r\nL 55.078125 68.703125 \r\nL 28.609375 0 \r\nL 18.3125 0 \r\nL 43.21875 64.59375 \r\nL 8.203125 64.59375 \r\nz\r\n\" id=\"DejaVuSans-55\"/>\r\n       </defs>\r\n       <use xlink:href=\"#DejaVuSans-49\"/>\r\n       <use x=\"63.623047\" xlink:href=\"#DejaVuSans-46\"/>\r\n       <use x=\"95.410156\" xlink:href=\"#DejaVuSans-54\"/>\r\n       <use x=\"159.033203\" xlink:href=\"#DejaVuSans-55\"/>\r\n      </g>\r\n     </g>\r\n    </g>\r\n    <g id=\"ytick_6\">\r\n     <g id=\"line2d_12\">\r\n      <g>\r\n       <use style=\"stroke:#000000;stroke-width:0.8;\" x=\"36.465625\" xlink:href=\"#mf3a19f67e8\" y=\"71.802179\"/>\r\n      </g>\r\n     </g>\r\n     <g id=\"text_12\">\r\n      <!-- 1.68 -->\r\n      <g transform=\"translate(7.2 75.601398)scale(0.1 -0.1)\">\r\n       <use xlink:href=\"#DejaVuSans-49\"/>\r\n       <use x=\"63.623047\" xlink:href=\"#DejaVuSans-46\"/>\r\n       <use x=\"95.410156\" xlink:href=\"#DejaVuSans-54\"/>\r\n       <use x=\"159.033203\" xlink:href=\"#DejaVuSans-56\"/>\r\n      </g>\r\n     </g>\r\n    </g>\r\n    <g id=\"ytick_7\">\r\n     <g id=\"line2d_13\">\r\n      <g>\r\n       <use style=\"stroke:#000000;stroke-width:0.8;\" x=\"36.465625\" xlink:href=\"#mf3a19f67e8\" y=\"46.014079\"/>\r\n      </g>\r\n     </g>\r\n     <g id=\"text_13\">\r\n      <!-- 1.69 -->\r\n      <g transform=\"translate(7.2 49.813298)scale(0.1 -0.1)\">\r\n       <defs>\r\n        <path d=\"M 10.984375 1.515625 \r\nL 10.984375 10.5 \r\nQ 14.703125 8.734375 18.5 7.8125 \r\nQ 22.3125 6.890625 25.984375 6.890625 \r\nQ 35.75 6.890625 40.890625 13.453125 \r\nQ 46.046875 20.015625 46.78125 33.40625 \r\nQ 43.953125 29.203125 39.59375 26.953125 \r\nQ 35.25 24.703125 29.984375 24.703125 \r\nQ 19.046875 24.703125 12.671875 31.3125 \r\nQ 6.296875 37.9375 6.296875 49.421875 \r\nQ 6.296875 60.640625 12.9375 67.421875 \r\nQ 19.578125 74.21875 30.609375 74.21875 \r\nQ 43.265625 74.21875 49.921875 64.515625 \r\nQ 56.59375 54.828125 56.59375 36.375 \r\nQ 56.59375 19.140625 48.40625 8.859375 \r\nQ 40.234375 -1.421875 26.421875 -1.421875 \r\nQ 22.703125 -1.421875 18.890625 -0.6875 \r\nQ 15.09375 0.046875 10.984375 1.515625 \r\nz\r\nM 30.609375 32.421875 \r\nQ 37.25 32.421875 41.125 36.953125 \r\nQ 45.015625 41.5 45.015625 49.421875 \r\nQ 45.015625 57.28125 41.125 61.84375 \r\nQ 37.25 66.40625 30.609375 66.40625 \r\nQ 23.96875 66.40625 20.09375 61.84375 \r\nQ 16.21875 57.28125 16.21875 49.421875 \r\nQ 16.21875 41.5 20.09375 36.953125 \r\nQ 23.96875 32.421875 30.609375 32.421875 \r\nz\r\n\" id=\"DejaVuSans-57\"/>\r\n       </defs>\r\n       <use xlink:href=\"#DejaVuSans-49\"/>\r\n       <use x=\"63.623047\" xlink:href=\"#DejaVuSans-46\"/>\r\n       <use x=\"95.410156\" xlink:href=\"#DejaVuSans-54\"/>\r\n       <use x=\"159.033203\" xlink:href=\"#DejaVuSans-57\"/>\r\n      </g>\r\n     </g>\r\n    </g>\r\n    <g id=\"ytick_8\">\r\n     <g id=\"line2d_14\">\r\n      <g>\r\n       <use style=\"stroke:#000000;stroke-width:0.8;\" x=\"36.465625\" xlink:href=\"#mf3a19f67e8\" y=\"20.225978\"/>\r\n      </g>\r\n     </g>\r\n     <g id=\"text_14\">\r\n      <!-- 1.70 -->\r\n      <g transform=\"translate(7.2 24.025197)scale(0.1 -0.1)\">\r\n       <use xlink:href=\"#DejaVuSans-49\"/>\r\n       <use x=\"63.623047\" xlink:href=\"#DejaVuSans-46\"/>\r\n       <use x=\"95.410156\" xlink:href=\"#DejaVuSans-55\"/>\r\n       <use x=\"159.033203\" xlink:href=\"#DejaVuSans-48\"/>\r\n      </g>\r\n     </g>\r\n    </g>\r\n   </g>\r\n   <g id=\"line2d_15\">\r\n    <path clip-path=\"url(#pfe3e707914)\" d=\"M 51.683807 177.851106 \r\nL 68.28546 180.789757 \r\nL 74.649427 182.195209 \r\nL 80.183311 183.646988 \r\nL 85.163807 185.173494 \r\nL 90.144303 186.934272 \r\nL 94.848104 188.829916 \r\nL 99.551906 190.964049 \r\nL 104.255708 193.344983 \r\nL 108.959509 195.977454 \r\nL 113.663311 198.862908 \r\nL 118.367113 201.999788 \r\nL 123.347608 205.590455 \r\nL 128.328104 209.450177 \r\nL 133.585294 213.804395 \r\nL 134.692071 214.756364 \r\nL 134.968765 214.756364 \r\nL 140.50265 210.118909 \r\nL 145.75984 206.006199 \r\nL 150.740336 202.38519 \r\nL 155.720832 199.0405 \r\nL 160.424633 196.140186 \r\nL 165.128435 193.492842 \r\nL 169.832237 191.097209 \r\nL 174.536038 188.948752 \r\nL 179.23984 187.039377 \r\nL 184.220336 185.264966 \r\nL 189.200832 183.726046 \r\nL 194.458022 182.329896 \r\nL 200.2686 181.016926 \r\nL 207.185956 179.689214 \r\nL 230.151575 175.489272 \r\nL 235.132071 174.227568 \r\nL 239.559179 172.876473 \r\nL 243.432898 171.474737 \r\nL 247.306617 169.831705 \r\nL 250.903642 168.059895 \r\nL 254.223972 166.190155 \r\nL 257.544303 164.074721 \r\nL 260.864633 161.694486 \r\nL 264.184964 159.031853 \r\nL 267.505294 156.07112 \r\nL 270.825625 152.798877 \r\nL 274.145956 149.204446 \r\nL 277.466286 145.280312 \r\nL 280.786617 141.022588 \r\nL 284.383642 136.033939 \r\nL 287.980666 130.660372 \r\nL 291.854385 124.458263 \r\nL 296.004799 117.364853 \r\nL 300.431906 109.33872 \r\nL 305.412402 99.834403 \r\nL 311.776369 87.173229 \r\nL 326.441162 57.799971 \r\nL 330.86827 49.52072 \r\nL 334.741989 42.736488 \r\nL 338.062319 37.348378 \r\nL 341.105956 32.810352 \r\nL 343.872898 29.052279 \r\nL 346.63984 25.668138 \r\nL 349.130088 22.954903 \r\nL 351.620336 20.561598 \r\nL 354.110584 18.485584 \r\nL 356.047443 17.083636 \r\nL 356.047443 17.083636 \r\n\" style=\"fill:none;stroke:#1f77b4;stroke-linecap:square;stroke-width:1.5;\"/>\r\n   </g>\r\n   <g id=\"patch_3\">\r\n    <path d=\"M 36.465625 224.64 \r\nL 36.465625 7.2 \r\n\" style=\"fill:none;stroke:#000000;stroke-linecap:square;stroke-linejoin:miter;stroke-width:0.8;\"/>\r\n   </g>\r\n   <g id=\"patch_4\">\r\n    <path d=\"M 371.265625 224.64 \r\nL 371.265625 7.2 \r\n\" style=\"fill:none;stroke:#000000;stroke-linecap:square;stroke-linejoin:miter;stroke-width:0.8;\"/>\r\n   </g>\r\n   <g id=\"patch_5\">\r\n    <path d=\"M 36.465625 224.64 \r\nL 371.265625 224.64 \r\n\" style=\"fill:none;stroke:#000000;stroke-linecap:square;stroke-linejoin:miter;stroke-width:0.8;\"/>\r\n   </g>\r\n   <g id=\"patch_6\">\r\n    <path d=\"M 36.465625 7.2 \r\nL 371.265625 7.2 \r\n\" style=\"fill:none;stroke:#000000;stroke-linecap:square;stroke-linejoin:miter;stroke-width:0.8;\"/>\r\n   </g>\r\n  </g>\r\n </g>\r\n <defs>\r\n  <clipPath id=\"pfe3e707914\">\r\n   <rect height=\"217.44\" width=\"334.8\" x=\"36.465625\" y=\"7.2\"/>\r\n  </clipPath>\r\n </defs>\r\n</svg>\r\n",
      "image/png": "[encoded data removed]"
     },
     "metadata": {
      "needs_background": "light"
     }
    }
   ],
   "source": [
    "beta = 0.44\n",
    "omega = 6.5\n",
    "C1 = - 0.0001\n",
    "C2 = 0.0005\n",
    "A = 1.8259\n",
    "B = - 0.0094\n",
    "tc = 1194\n",
    "log_price = LPPL(t=np.arange(800), A=A, B=B, C1=C1, C2=C2, beta=beta, omega=omega, tc=tc)\n",
    "log_price = np.append(log_price[300::-1],log_price)\n",
    "plt.plot(log_price)"
   ]
  },
  {
   "cell_type": "code",
   "execution_count": 19,
   "metadata": {
    "tags": []
   },
   "outputs": [
    {
     "output_type": "execute_result",
     "data": {
      "text/plain": "{'tc': 694.4410949675702,\n 'beta': 0.43974938978826034,\n 'omega': 6.508977389311978,\n 'A': 1.825699541832086,\n 'B': -0.009404450549810064,\n 'C1': -0.00012109138560043964,\n 'C2': 0.0004962125891484621,\n 'Res': 3.643789228497923e-08}"
     },
     "metadata": {},
     "execution_count": 19
    }
   ],
   "source": [
    "fit(log_price[-600:])"
   ]
  },
  {
   "cell_type": "code",
   "execution_count": 28,
   "metadata": {
    "tags": [
     "outputPrepend"
    ]
   },
   "outputs": [
    {
     "output_type": "stream",
     "name": "stdout",
     "text": "e in Linear Least Squares\nminimize failed (7/25): SVD did not converge in Linear Least Squares\nminimize failed (8/25): SVD did not converge in Linear Least Squares\nminimize failed (9/25): SVD did not converge in Linear Least Squares\nminimize failed (10/25): SVD did not converge in Linear Least Squares\nminimize failed (0/25): SVD did not converge in Linear Least Squares\nminimize failed (1/25): SVD did not converge in Linear Least Squares\nminimize failed (2/25): SVD did not converge in Linear Least Squares\nminimize failed (3/25): SVD did not converge in Linear Least Squares\nminimize failed (4/25): SVD did not converge in Linear Least Squares\nminimize failed (5/25): SVD did not converge in Linear Least Squares\nminimize failed (6/25): SVD did not converge in Linear Least Squares\nminimize failed (7/25): SVD did not converge in Linear Least Squares\nminimize failed (8/25): SVD did not converge in Linear Least Squares\nminimize failed (9/25): SVD did not converge in Linear Least Squares\nminimize failed (10/25): SVD did not converge in Linear Least Squares\nminimize failed (11/25): SVD did not converge in Linear Least Squares\nminimize failed (12/25): SVD did not converge in Linear Least Squares\nminimize failed (13/25): SVD did not converge in Linear Least Squares\nminimize failed (14/25): SVD did not converge in Linear Least Squares\nminimize failed (15/25): SVD did not converge in Linear Least Squares\nminimize failed (16/25): SVD did not converge in Linear Least Squares\nminimize failed (17/25): SVD did not converge in Linear Least Squares\nminimize failed (18/25): SVD did not converge in Linear Least Squares\nminimize failed (19/25): SVD did not converge in Linear Least Squares\nminimize failed (20/25): SVD did not converge in Linear Least Squares\nminimize failed (21/25): SVD did not converge in Linear Least Squares\nminimize failed (22/25): SVD did not converge in Linear Least Squares\nminimize failed (0/25): SVD did not converge in Linear Least Squares\nminimize failed (1/25): SVD did not converge in Linear Least Squares\nminimize failed (2/25): SVD did not converge in Linear Least Squares\nminimize failed (3/25): SVD did not converge in Linear Least Squares\nminimize failed (4/25): SVD did not converge in Linear Least Squares\nminimize failed (5/25): SVD did not converge in Linear Least Squares\nminimize failed (6/25): SVD did not converge in Linear Least Squares\nminimize failed (7/25): SVD did not converge in Linear Least Squares\nminimize failed (8/25): SVD did not converge in Linear Least Squares\nminimize failed (9/25): SVD did not converge in Linear Least Squares\nminimize failed (10/25): SVD did not converge in Linear Least Squares\nminimize failed (11/25): SVD did not converge in Linear Least Squares\nminimize failed (12/25): SVD did not converge in Linear Least Squares\nminimize failed (0/25): SVD did not converge in Linear Least Squares\nminimize failed (1/25): SVD did not converge in Linear Least Squares\nminimize failed (2/25): SVD did not converge in Linear Least Squares\nminimize failed (3/25): SVD did not converge in Linear Least Squares\nminimize failed (4/25): SVD did not converge in Linear Least Squares\nminimize failed (0/25): SVD did not converge in Linear Least Squares\nminimize failed (2/25): SVD did not converge in Linear Least Squares\nminimize failed (3/25): SVD did not converge in Linear Least Squares\nminimize failed (0/25): SVD did not converge in Linear Least Squares\nminimize failed (1/25): SVD did not converge in Linear Least Squares\nminimize failed (2/25): SVD did not converge in Linear Least Squares\nminimize failed (3/25): SVD did not converge in Linear Least Squares\nminimize failed (4/25): SVD did not converge in Linear Least Squares\nminimize failed (5/25): SVD did not converge in Linear Least Squares\nminimize failed (6/25): SVD did not converge in Linear Least Squares\nminimize failed (0/25): SVD did not converge in Linear Least Squares\nminimize failed (1/25): SVD did not converge in Linear Least Squares\nminimize failed (2/25): SVD did not converge in Linear Least Squares\nminimize failed (3/25): SVD did not converge in Linear Least Squares\nminimize failed (4/25): SVD did not converge in Linear Least Squares\nminimize failed (5/25): SVD did not converge in Linear Least Squares\nminimize failed (6/25): SVD did not converge in Linear Least Squares\nminimize failed (7/25): SVD did not converge in Linear Least Squares\nminimize failed (9/25): SVD did not converge in Linear Least Squares\nminimize failed (10/25): SVD did not converge in Linear Least Squares\nminimize failed (11/25): SVD did not converge in Linear Least Squares\nminimize failed (12/25): SVD did not converge in Linear Least Squares\nminimize failed (13/25): SVD did not converge in Linear Least Squares\nminimize failed (14/25): SVD did not converge in Linear Least Squares\nminimize failed (16/25): SVD did not converge in Linear Least Squares\nminimize failed (17/25): SVD did not converge in Linear Least Squares\nminimize failed (18/25): SVD did not converge in Linear Least Squares\nminimize failed (19/25): SVD did not converge in Linear Least Squares\nminimize failed (20/25): SVD did not converge in Linear Least Squares\nminimize failed (21/25): SVD did not converge in Linear Least Squares\nminimize failed (22/25): SVD did not converge in Linear Least Squares\nminimize failed (23/25): SVD did not converge in Linear Least Squares\nminimize failed (0/25): SVD did not converge in Linear Least Squares\nminimize failed (1/25): SVD did not converge in Linear Least Squares\nminimize failed (2/25): SVD did not converge in Linear Least Squares\nminimize failed (3/25): SVD did not converge in Linear Least Squares\nminimize failed (4/25): SVD did not converge in Linear Least Squares\nminimize failed (5/25): SVD did not converge in Linear Least Squares\nminimize failed (6/25): SVD did not converge in Linear Least Squares\nminimize failed (8/25): SVD did not converge in Linear Least Squares\nminimize failed (9/25): SVD did not converge in Linear Least Squares\nminimize failed (10/25): SVD did not converge in Linear Least Squares\nminimize failed (11/25): SVD did not converge in Linear Least Squares\nminimize failed (0/25): SVD did not converge in Linear Least Squares\nminimize failed (1/25): SVD did not converge in Linear Least Squares\nminimize failed (2/25): SVD did not converge in Linear Least Squares\nminimize failed (3/25): SVD did not converge in Linear Least Squares\nminimize failed (4/25): SVD did not converge in Linear Least Squares\nminimize failed (0/25): SVD did not converge in Linear Least Squares\nminimize failed (1/25): SVD did not converge in Linear Least Squares\nminimize failed (2/25): SVD did not converge in Linear Least Squares\nminimize failed (3/25): SVD did not converge in Linear Least Squares\nminimize failed (4/25): SVD did not converge in Linear Least Squares\nminimize failed (5/25): SVD did not converge in Linear Least Squares\nminimize failed (6/25): SVD did not converge in Linear Least Squares\nminimize failed (7/25): SVD did not converge in Linear Least Squares\nminimize failed (8/25): SVD did not converge in Linear Least Squares\nminimize failed (9/25): SVD did not converge in Linear Least Squares\nminimize failed (10/25): SVD did not converge in Linear Least Squares\nminimize failed (0/25): SVD did not converge in Linear Least Squares\nminimize failed (1/25): SVD did not converge in Linear Least Squares\nminimize failed (2/25): SVD did not converge in Linear Least Squares\nminimize failed (0/25): SVD did not converge in Linear Least Squares\nminimize failed (0/25): SVD did not converge in Linear Least Squares\nminimize failed (1/25): SVD did not converge in Linear Least Squares\nminimize failed (3/25): SVD did not converge in Linear Least Squares\nminimize failed (0/25): SVD did not converge in Linear Least Squares\nminimize failed (0/25): SVD did not converge in Linear Least Squares\nminimize failed (0/25): SVD did not converge in Linear Least Squares\nminimize failed (0/25): SVD did not converge in Linear Least Squares\nminimize failed (1/25): SVD did not converge in Linear Least Squares\nminimize failed (0/25): SVD did not converge in Linear Least Squares\nminimize failed (1/25): SVD did not converge in Linear Least Squares\nminimize failed (0/25): SVD did not converge in Linear Least Squares\nminimize failed (1/25): SVD did not converge in Linear Least Squares\nminimize failed (0/25): SVD did not converge in Linear Least Squares\nminimize failed (1/25): SVD did not converge in Linear Least Squares\nminimize failed (0/25): SVD did not converge in Linear Least Squares\nminimize failed (0/25): SVD did not converge in Linear Least Squares\nminimize failed (0/25): SVD did not converge in Linear Least Squares\nminimize failed (1/25): SVD did not converge in Linear Least Squares\nminimize failed (0/25): SVD did not converge in Linear Least Squares\nminimize failed (0/25): SVD did not converge in Linear Least Squares\nminimize failed (1/25): SVD did not converge in Linear Least Squares\nminimize failed (2/25): SVD did not converge in Linear Least Squares\nminimize failed (3/25): SVD did not converge in Linear Least Squares\nminimize failed (0/25): SVD did not converge in Linear Least Squares\nminimize failed (2/25): SVD did not converge in Linear Least Squares\nminimize failed (3/25): SVD did not converge in Linear Least Squares\nminimize failed (0/25): SVD did not converge in Linear Least Squares\nminimize failed (0/25): SVD did not converge in Linear Least Squares\nminimize failed (0/25): SVD did not converge in Linear Least Squares\nminimize failed (0/25): SVD did not converge in Linear Least Squares\nminimize failed (0/25): SVD did not converge in Linear Least Squares\nminimize failed (1/25): SVD did not converge in Linear Least Squares\nminimize failed (0/25): SVD did not converge in Linear Least Squares\nminimize failed (0/25): SVD did not converge in Linear Least Squares\nminimize failed (0/25): SVD did not converge in Linear Least Squares\nminimize failed (0/25): SVD did not converge in Linear Least Squares\nminimize failed (0/25): SVD did not converge in Linear Least Squares\nminimize failed (0/25): SVD did not converge in Linear Least Squares\nminimize failed (1/25): SVD did not converge in Linear Least Squares\nminimize failed (0/25): SVD did not converge in Linear Least Squares\nminimize failed (0/25): SVD did not converge in Linear Least Squares\nminimize failed (0/25): SVD did not converge in Linear Least Squares\nminimize failed (1/25): SVD did not converge in Linear Least Squares\nminimize failed (0/25): SVD did not converge in Linear Least Squares\nminimize failed (0/25): SVD did not converge in Linear Least Squares\nminimize failed (0/25): SVD did not converge in Linear Least Squares\nminimize failed (0/25): SVD did not converge in Linear Least Squares\nminimize failed (0/25): SVD did not converge in Linear Least Squares\nminimize failed (1/25): SVD did not converge in Linear Least Squares\nminimize failed (0/25): SVD did not converge in Linear Least Squares\nminimize failed (0/25): SVD did not converge in Linear Least Squares\nminimize failed (0/25): SVD did not converge in Linear Least Squares\nminimize failed (0/25): SVD did not converge in Linear Least Squares\nminimize failed (1/25): SVD did not converge in Linear Least Squares\nminimize failed (0/25): SVD did not converge in Linear Least Squares\nminimize failed (0/25): SVD did not converge in Linear Least Squares\nminimize failed (0/25): SVD did not converge in Linear Least Squares\nminimize failed (0/25): SVD did not converge in Linear Least Squares\nminimize failed (0/25): SVD did not converge in Linear Least Squares\nminimize failed (1/25): SVD did not converge in Linear Least Squares\nminimize failed (0/25): SVD did not converge in Linear Least Squares\nminimize failed (0/25): SVD did not converge in Linear Least Squares\nminimize failed (0/25): SVD did not converge in Linear Least Squares\nminimize failed (0/25): SVD did not converge in Linear Least Squares\nminimize failed (0/25): SVD did not converge in Linear Least Squares\nminimize failed (0/25): SVD did not converge in Linear Least Squares\nminimize failed (1/25): SVD did not converge in Linear Least Squares\nminimize failed (0/25): SVD did not converge in Linear Least Squares\nminimize failed (0/25): SVD did not converge in Linear Least Squares\nminimize failed (0/25): SVD did not converge in Linear Least Squares\nminimize failed (1/25): SVD did not converge in Linear Least Squares\nminimize failed (0/25): SVD did not converge in Linear Least Squares\nminimize failed (0/25): SVD did not converge in Linear Least Squares\nminimize failed (0/25): SVD did not converge in Linear Least Squares\nminimize failed (0/25): SVD did not converge in Linear Least Squares\nminimize failed (0/25): SVD did not converge in Linear Least Squares\nminimize failed (0/25): SVD did not converge in Linear Least Squares\nminimize failed (0/25): SVD did not converge in Linear Least Squares\nminimize failed (1/25): SVD did not converge in Linear Least Squares\nminimize failed (0/25): SVD did not converge in Linear Least Squares\nminimize failed (0/25): SVD did not converge in Linear Least Squares\nminimize failed (1/25): SVD did not converge in Linear Least Squares\nminimize failed (0/25): SVD did not converge in Linear Least Squares\nminimize failed (0/25): SVD did not converge in Linear Least Squares\nminimize failed (0/25): SVD did not converge in Linear Least Squares\nminimize failed (0/25): SVD did not converge in Linear Least Squares\nminimize failed (0/25): SVD did not converge in Linear Least Squares\nminimize failed (0/25): SVD did not converge in Linear Least Squares\nminimize failed (1/25): SVD did not converge in Linear Least Squares\nminimize failed (0/25): SVD did not converge in Linear Least Squares\nminimize failed (0/25): SVD did not converge in Linear Least Squares\nminimize failed (0/25): SVD did not converge in Linear Least Squares\nminimize failed (0/25): SVD did not converge in Linear Least Squares\nminimize failed (0/25): SVD did not converge in Linear Least Squares\nminimize failed (1/25): SVD did not converge in Linear Least Squares\nminimize failed (0/25): SVD did not converge in Linear Least Squares\nminimize failed (0/25): SVD did not converge in Linear Least Squares\nminimize failed (0/25): SVD did not converge in Linear Least Squares\nminimize failed (1/25): SVD did not converge in Linear Least Squares\nminimize failed (0/25): SVD did not converge in Linear Least Squares\nminimize failed (0/25): SVD did not converge in Linear Least Squares\nminimize failed (0/25): SVD did not converge in Linear Least Squares\nminimize failed (0/25): SVD did not converge in Linear Least Squares\nminimize failed (0/25): SVD did not converge in Linear Least Squares\nminimize failed (0/25): SVD did not converge in Linear Least Squares\nminimize failed (0/25): SVD did not converge in Linear Least Squares\nminimize failed (0/25): SVD did not converge in Linear Least Squares\nminimize failed (0/25): SVD did not converge in Linear Least Squares\nminimize failed (0/25): SVD did not converge in Linear Least Squares\nminimize failed (0/25): SVD did not converge in Linear Least Squares\nminimize failed (1/25): SVD did not converge in Linear Least Squares\nminimize failed (0/25): SVD did not converge in Linear Least Squares\nminimize failed (0/25): SVD did not converge in Linear Least Squares\nminimize failed (0/25): SVD did not converge in Linear Least Squares\nminimize failed (0/25): SVD did not converge in Linear Least Squares\nminimize failed (0/25): SVD did not converge in Linear Least Squares\nminimize failed (1/25): SVD did not converge in Linear Least Squares\nminimize failed (0/25): SVD did not converge in Linear Least Squares\nminimize failed (0/25): SVD did not converge in Linear Least Squares\nminimize failed (0/25): SVD did not converge in Linear Least Squares\nminimize failed (0/25): SVD did not converge in Linear Least Squares\nminimize failed (1/25): SVD did not converge in Linear Least Squares\nminimize failed (0/25): SVD did not converge in Linear Least Squares\nminimize failed (0/25): SVD did not converge in Linear Least Squares\nminimize failed (0/25): SVD did not converge in Linear Least Squares\nminimize failed (0/25): SVD did not converge in Linear Least Squares\nminimize failed (0/25): SVD did not converge in Linear Least Squares\nminimize failed (0/25): SVD did not converge in Linear Least Squares\nminimize failed (0/25): SVD did not converge in Linear Least Squares\nminimize failed (1/25): SVD did not converge in Linear Least Squares\nminimize failed (0/25): SVD did not converge in Linear Least Squares\nminimize failed (0/25): SVD did not converge in Linear Least Squares\nminimize failed (0/25): SVD did not converge in Linear Least Squares\nminimize failed (0/25): SVD did not converge in Linear Least Squares\nminimize failed (0/25): SVD did not converge in Linear Least Squares\nminimize failed (1/25): SVD did not converge in Linear Least Squares\nminimize failed (0/25): SVD did not converge in Linear Least Squares\nminimize failed (0/25): SVD did not converge in Linear Least Squares\nminimize failed (0/25): SVD did not converge in Linear Least Squares\nminimize failed (0/25): SVD did not converge in Linear Least Squares\nminimize failed (1/25): SVD did not converge in Linear Least Squares\nminimize failed (2/25): SVD did not converge in Linear Least Squares\nminimize failed (0/25): SVD did not converge in Linear Least Squares\nminimize failed (0/25): SVD did not converge in Linear Least Squares\nminimize failed (0/25): SVD did not converge in Linear Least Squares\nminimize failed (0/25): SVD did not converge in Linear Least Squares\nminimize failed (0/25): SVD did not converge in Linear Least Squares\nminimize failed (0/25): SVD did not converge in Linear Least Squares\nminimize failed (0/25): SVD did not converge in Linear Least Squares\nminimize failed (0/25): SVD did not converge in Linear Least Squares\nminimize failed (0/25): SVD did not converge in Linear Least Squares\nminimize failed (0/25): SVD did not converge in Linear Least Squares\nminimize failed (0/25): SVD did not converge in Linear Least Squares\nminimize failed (0/25): SVD did not converge in Linear Least Squares\nminimize failed (0/25): SVD did not converge in Linear Least Squares\nminimize failed (1/25): SVD did not converge in Linear Least Squares\nminimize failed (0/25): SVD did not converge in Linear Least Squares\nminimize failed (0/25): SVD did not converge in Linear Least Squares\nminimize failed (0/25): SVD did not converge in Linear Least Squares\nminimize failed (0/25): SVD did not converge in Linear Least Squares\nminimize failed (0/25): SVD did not converge in Linear Least Squares\nminimize failed (1/25): SVD did not converge in Linear Least Squares\nminimize failed (0/25): SVD did not converge in Linear Least Squares\nminimize failed (0/25): SVD did not converge in Linear Least Squares\nminimize failed (0/25): SVD did not converge in Linear Least Squares\nminimize failed (0/25): SVD did not converge in Linear Least Squares\nminimize failed (0/25): SVD did not converge in Linear Least Squares\nminimize failed (1/25): SVD did not converge in Linear Least Squares\nminimize failed (2/25): SVD did not converge in Linear Least Squares\nminimize failed (0/25): SVD did not converge in Linear Least Squares\nminimize failed (0/25): SVD did not converge in Linear Least Squares\nminimize failed (0/25): SVD did not converge in Linear Least Squares\nminimize failed (1/25): SVD did not converge in Linear Least Squares\nminimize failed (0/25): SVD did not converge in Linear Least Squares\nminimize failed (0/25): SVD did not converge in Linear Least Squares\nminimize failed (0/25): SVD did not converge in Linear Least Squares\nminimize failed (0/25): SVD did not converge in Linear Least Squares\nminimize failed (0/25): SVD did not converge in Linear Least Squares\nminimize failed (0/25): SVD did not converge in Linear Least Squares\nminimize failed (0/25): SVD did not converge in Linear Least Squares\nminimize failed (0/25): SVD did not converge in Linear Least Squares\n"
    }
   ],
   "source": [
    "sols = []\n",
    "time_windows = np.linspace(1100,30,1170,dtype=int)\n",
    "for dt in time_windows:\n",
    "    sols.append(fit(log_price[-dt:]))\n",
    "\n",
    "dt_max = get_dt_max(sols, time_windows)"
   ]
  },
  {
   "cell_type": "code",
   "execution_count": 29,
   "metadata": {},
   "outputs": [
    {
     "output_type": "execute_result",
     "data": {
      "text/plain": "1094"
     },
     "metadata": {},
     "execution_count": 29
    }
   ],
   "source": [
    "dt_max"
   ]
  },
  {
   "cell_type": "code",
   "execution_count": null,
   "metadata": {
    "tags": []
   },
   "outputs": [],
   "source": [
    "beta = 0.44\n",
    "omega = 6.5\n",
    "C1 = - 0.0001\n",
    "C2 = 0.0005\n",
    "A = 1.8259\n",
    "B = - 0.0094\n",
    "tc = 1194\n",
    "log_price = LPPL(np.arange(800), A, B, C1, C2, beta, omega, tc)\n",
    "tc, beta, omega, A, B, C1, C2 = fit(log_price, 25)\n",
    "plt.plot(LPPL(np.arange(len(log_price)), A, B, C1, C2, beta, omega, tc))\n",
    "plt.plot(log_price)"
   ]
  },
  {
   "cell_type": "code",
   "execution_count": null,
   "metadata": {},
   "outputs": [],
   "source": []
  },
  {
   "cell_type": "code",
   "execution_count": null,
   "metadata": {
    "tags": []
   },
   "outputs": [],
   "source": [
    "sol=fit(log_price, 25)"
   ]
  },
  {
   "cell_type": "code",
   "execution_count": null,
   "metadata": {},
   "outputs": [],
   "source": [
    "tc, beta, omega, A, B, C1, C2=sol"
   ]
  },
  {
   "cell_type": "code",
   "execution_count": null,
   "metadata": {},
   "outputs": [],
   "source": [
    "func_restricted(np.array([tc,beta,omega]), log_price)"
   ]
  },
  {
   "cell_type": "code",
   "execution_count": null,
   "metadata": {},
   "outputs": [],
   "source": []
  }
 ]
}