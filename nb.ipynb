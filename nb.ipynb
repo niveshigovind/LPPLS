{
 "metadata": {
  "language_info": {
   "codemirror_mode": {
    "name": "ipython",
    "version": 3
   },
   "file_extension": ".py",
   "mimetype": "text/x-python",
   "name": "python",
   "nbconvert_exporter": "python",
   "pygments_lexer": "ipython3",
   "version": "3.8.5-final"
  },
  "orig_nbformat": 2,
  "kernelspec": {
   "name": "python38564bitba80edc4f7cc4958a2e4a1829e201f28",
   "display_name": "Python 3.8.5 64-bit"
  }
 },
 "nbformat": 4,
 "nbformat_minor": 2,
 "cells": [
  {
   "cell_type": "code",
   "execution_count": 1,
   "metadata": {},
   "outputs": [],
   "source": [
    "from pandas_datareader import data\n",
    "import matplotlib.pyplot as plt\n",
    "import pandas as pd\n",
    "import numpy as np\n",
    "from scipy.optimize import least_squares"
   ]
  },
  {
   "cell_type": "code",
   "execution_count": 2,
   "metadata": {},
   "outputs": [],
   "source": [
    "def f(tc, t, beta):\n",
    "    return (tc-t)**beta\n",
    "def g(tc, t, beta, omega):\n",
    "    return f(tc, t, beta)*np.cos(omega*np.log(tc-t))\n",
    "def h(tc, t, beta, omega):\n",
    "    return f(tc, t, beta)*np.sin(omega*np.log(tc-t))"
   ]
  },
  {
   "cell_type": "code",
   "execution_count": 3,
   "metadata": {},
   "outputs": [],
   "source": [
    "def LPPL(t, A, B, C1, C2, beta, omega, tc):\n",
    "    return A + B*f(tc, t, beta) + C1*g(tc, t, beta, omega) + C2*h(tc, t, beta, omega)"
   ]
  },
  {
   "cell_type": "code",
   "execution_count": 4,
   "metadata": {},
   "outputs": [],
   "source": [
    "def fit_ABC(beta, omega, tc, log_price):\n",
    "    one_col = np.ones(len(log_price))\n",
    "\n",
    "    t = np.arange(1,len(log_price)+1)\n",
    "    f_col = f(tc, t, beta)\n",
    "    g_col = g(tc, t, beta, omega)\n",
    "    h_col = h(tc, t, beta, omega)\n",
    "\n",
    "    X = np.array([one_col,f_col,g_col,h_col]).T\n",
    "    A, B, C1, C2 = np.linalg.solve(X.T@X,X.T@log_price)\n",
    "    return A, B, C1, C2"
   ]
  },
  {
   "cell_type": "code",
   "execution_count": 5,
   "metadata": {},
   "outputs": [],
   "source": [
    "def f_min( beta, omega, tc, log_price):\n",
    "    t = np.arange(1,len(log_price)+1)\n",
    "    A, B, C1, C2 = fit_ABC(beta, omega, tc, log_price)\n",
    "    return LPPL(t, A, B, C1, C2, beta, omega, tc) - log_price"
   ]
  },
  {
   "cell_type": "code",
   "execution_count": 6,
   "metadata": {},
   "outputs": [],
   "source": [
    "def opti_config(log_price):\n",
    "    beta_0 = 0.5\n",
    "    omega_0 = 9\n",
    "    tc_0 = len(log_price) + 15\n",
    "\n",
    "    beta_m = 0.000001 \n",
    "    omega_m = 1\n",
    "    tc_m = len(log_price) + 1\n",
    "\n",
    "    beta_M = 2\n",
    "    omega_M = 21\n",
    "    tc_M = len(log_price) + 10000\n",
    "       \n",
    "    return beta_0, omega_0, tc_0, beta_m, omega_m, tc_m, beta_M, omega_M, tc_M"
   ]
  },
  {
   "cell_type": "code",
   "execution_count": 7,
   "metadata": {},
   "outputs": [],
   "source": [
    "def fit_LPPL(log_price):\n",
    "\n",
    "    beta_0, omega_0, tc_0, beta_m, omega_m, tc_m, beta_M, omega_M, tc_M = opti_config(log_price)\n",
    "\n",
    "    sol = least_squares(\n",
    "        lambda x: f_min(beta=x[0], omega=x[1], tc=x[2], log_price=log_price),\n",
    "        np.array([beta_0, omega_0,  tc_0]),\n",
    "        bounds = ([beta_m, omega_m, tc_m], [beta_M, omega_M, tc_M])\n",
    "    )\n",
    "\n",
    "    if sol.success:\n",
    "        beta, omega, tc = sol.x\n",
    "        A, B, C1, C2 = fit_ABC(beta, omega, tc, log_price)\n",
    "        sol.x = np.append(sol.x,[A, B, C1, C2])\n",
    "    else:\n",
    "        print(\"OLS failed.\")\n",
    "        sol.x = np.append(sol.x,np.zeros(4))\n",
    "    return sol"
   ]
  },
  {
   "cell_type": "code",
   "execution_count": 8,
   "metadata": {},
   "outputs": [],
   "source": [
    "def conditions_satisfied(sol, dt):\n",
    "    beta, omega, tc, A, B, C1, C2 = sol.x\n",
    "\n",
    "    c1 = 0.01 < beta < 1.2\n",
    "    c2 = 2 < omega < 25\n",
    "    c3 = 0.95*dt < tc < 1.11*dt\n",
    "    c4 = 2.5 < omega/(2*np.pi)*np.log(abs(tc/(tc-dt)))\n",
    "    C = C1/np.cos(np.arctan(C2/C1))\n",
    "    c5 = 0.8 < beta * abs(B) / (omega * abs(C))\n",
    "    return c1 and c2 and c3 and c4 and c5 "
   ]
  },
  {
   "cell_type": "code",
   "execution_count": 9,
   "metadata": {},
   "outputs": [],
   "source": [
    "def total_return(log_price):\n",
    "    price = np.array(np.exp(log_price))\n",
    "    return (price[-1]-price[0])/price[0]"
   ]
  },
  {
   "cell_type": "code",
   "execution_count": 56,
   "metadata": {},
   "outputs": [],
   "source": [
    "def get_dt_max(sols):\n",
    "    residuals = [residual(sol) for sol in sols]\n",
    "    residuals_lgrn = obtainLagrangeRegularizedNormedCost(residuals)\n",
    "    return np.argmin(residuals_lgrn)\n",
    "\n",
    "def residual(sol):\n",
    "    cost = sol.cost\n",
    "    dt = len(sol.fun)\n",
    "    return 2*cost/(len(dt)-7)\n",
    "\n",
    "def obtainLagrangeRegularizedNormedCost(residuals):\n",
    "    slope = LagrangeMethod(residuals)\n",
    "    residuals_lgrn = residuals - slope*len(residuals)\n",
    "    return residuals_lgrn\n",
    "\n",
    "def LagrangeMethod(residuals):\n",
    "    slope = calculate_slope_of_normed_cost(residuals)\n",
    "    return slope[0]\n",
    "\n",
    "def calculate_slope_of_normed_cost(residuals):\n",
    "    regr =linear_model.LinearRegression(fit_intercept=False)\n",
    "    x_residuals = np.arange(len(residuals))\n",
    "    x_residuals = x_sse.reshape(len(residuals),1)\n",
    "    res = regr.fit(x_residuals, residuals)\n",
    "    return res.coef_"
   ]
  },
  {
   "cell_type": "code",
   "execution_count": 58,
   "metadata": {},
   "outputs": [],
   "source": [
    "def LPPL_confidence(log_price, time_windows):\n",
    "    \n",
    "    sols = []\n",
    "    for dt in time_windows:\n",
    "        sols.append(fit_LPPL(log_price[-dt:]))\n",
    "\n",
    "    dt_max = get_dt_max(sols)\n",
    "    \n",
    "    LPPL_confidences = []\n",
    "    total_returns = []\n",
    "    for dt in time_windows:\n",
    "        sol = sols.pop(0)\n",
    "        if dt <= dt_max and conditions_satisfied(sol, dt):\n",
    "            LPPL_confidences.append(1)\n",
    "            total_returns.append(total_return(log_price[-dt:]))\n",
    "\n",
    "    return np.mean(LPPL_confidences)*np.sign(np.median(total_returns))\n"
   ]
  },
  {
   "cell_type": "code",
   "execution_count": 57,
   "metadata": {},
   "outputs": [
    {
     "output_type": "execute_result",
     "data": {
      "text/plain": "array([750, 550, 350, 150])"
     },
     "metadata": {},
     "execution_count": 57
    }
   ],
   "source": [
    "t"
   ]
  },
  {
   "cell_type": "code",
   "execution_count": 37,
   "metadata": {},
   "outputs": [],
   "source": [
    "sol = fit_LPPL(log_price[-100:])"
   ]
  },
  {
   "cell_type": "code",
   "execution_count": 11,
   "metadata": {},
   "outputs": [],
   "source": [
    "def LPPL_confidence_signal(log_price, time, time_windows):\n",
    "    \n",
    "    LPPL_confidence_ts = []\n",
    "    for t2 in time:\n",
    "        LPPL_confidence_ts.append(LPPL_confidence(log_price[:t2], time_windows))\n",
    "    return pd.DataFrame(LPPL_confidence_ts,index=log_price[time].index).fillna(0)"
   ]
  },
  {
   "cell_type": "code",
   "execution_count": 35,
   "metadata": {
    "tags": []
   },
   "outputs": [
    {
     "output_type": "stream",
     "name": "stdout",
     "text": "OLS failed.\nOLS failed.\nOLS failed.\nOLS failed.\nOLS failed.\nOLS failed.\nOLS failed.\nOLS failed.\nOLS failed.\nOLS failed.\nOLS failed.\n"
    }
   ],
   "source": [
    "short_dt = range(30,35)\n",
    "medium_dt = range(91,300)\n",
    "long_dt = range(301,750)\n",
    "\n",
    "price = pd.read_csv(\"data.csv\")[\"Closing Price (USD)\"]\n",
    "log_price = np.log(price)\n",
    "\n",
    "LPPL_conf_ts = LPPL_confidence_signal(log_price, time=range(800,2000), time_windows=np.linspace(750,150,4,dtype=int))"
   ]
  },
  {
   "cell_type": "code",
   "execution_count": null,
   "metadata": {},
   "outputs": [],
   "source": [
    "plt.plot(log_price[LPPL_conf_ts.index])"
   ]
  },
  {
   "cell_type": "code",
   "execution_count": null,
   "metadata": {
    "tags": []
   },
   "outputs": [],
   "source": [
    "# Define the instruments to download. We would like to see Apple, Microsoft and the S&P500 index.\n",
    "ticker = '^GSPC'\n",
    "\n",
    "# We would like all available data from 01/01/2000 until 12/31/2016.\n",
    "start_date = '2019-01-19'\n",
    "end_date = '2020-08-10'\n",
    "\n",
    "# User pandas_reader.data.DataReader to load the desired data. As simple as that.\n",
    "panel_data = data.DataReader(ticker, 'yahoo', start_date, end_date)\n",
    "price = panel_data['Adj Close']\n",
    "log_price = np.log(price)\n",
    "\n"
   ]
  },
  {
   "cell_type": "code",
   "execution_count": null,
   "metadata": {},
   "outputs": [],
   "source": [
    "panel_data.to_csv('^GSPC_19.csv')"
   ]
  },
  {
   "cell_type": "code",
   "execution_count": null,
   "metadata": {},
   "outputs": [],
   "source": [
    "plt.plot(log_price[150:250])"
   ]
  },
  {
   "cell_type": "code",
   "execution_count": null,
   "metadata": {},
   "outputs": [],
   "source": [
    "panel_data"
   ]
  },
  {
   "cell_type": "code",
   "execution_count": null,
   "metadata": {},
   "outputs": [],
   "source": [
    "len(log_price)"
   ]
  },
  {
   "cell_type": "code",
   "execution_count": null,
   "metadata": {},
   "outputs": [],
   "source": [
    "LPPL_conf_ts = LPPL_confidence_ts(log_price, t2=range(150,250), time_window=np.linspace(150,30,4))\n",
    "plt.plot(LPPL_conf_ts)"
   ]
  },
  {
   "cell_type": "code",
   "execution_count": null,
   "metadata": {},
   "outputs": [],
   "source": []
  }
 ]
}